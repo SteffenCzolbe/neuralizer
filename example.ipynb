{
 "cells": [
  {
   "cell_type": "markdown",
   "metadata": {},
   "source": [
    "# Neuralizer demo\n",
    "\n",
    "We provide a lightweight demo of running inference with a pre-trained Neuralizer model. We will use the same model to perform three neuroimaging tasks:\n",
    "\n",
    "1. Binary segmentation\n",
    "2. Bias correction\n",
    "3. Modality ransfer\n",
    "\n",
    "Note however, that Neuralizer is not just limited to these tasks. Due to the versity of the model, it is able to adapt to any neuroimaging task without re-training! In fact, in the paper we evaluate the generalization performance across 8 tasks (Figure 2) and 8 modalities (Table 1).\n",
    "\n",
    "In this first cell, we import the model class and load the weights of a pre trained model."
   ]
  },
  {
   "cell_type": "code",
   "execution_count": null,
   "metadata": {},
   "outputs": [],
   "source": [
    "from neuralizer.lightning_model import LightningModel\n",
    "from neuralizer.util.utils import load_exampe, display_images\n",
    "import warnings\n",
    "warnings.filterwarnings('ignore')\n",
    "\n",
    "model = LightningModel.load_from_checkpoint('model_weights.ckpt', strict=False)"
   ]
  },
  {
   "cell_type": "markdown",
   "metadata": {},
   "source": [
    "## Binary Segmentation\n",
    "\n",
    "Neuralizer can solve many neuroimaging tasks with a single model. To achieve this, the model needs three imputs:\n",
    "\n",
    "* The target `target_in`, a image we want to process.\n",
    "* A set of context image inputs `ctx_in`, images which are similar to the target.\n",
    "* A matching set of context image outputs `ctx_out`, which provide an example output for each of the inputs in `ctx_in`.\n",
    "\n",
    "Below, we load and display `target_in`, `ctx_in`, and `ctx_out` from a binary segmentation example we provide with this repository. The images are 192x192 pixel slices taken from our test set. The segmentation classes have been samples at random."
   ]
  },
  {
   "cell_type": "code",
   "execution_count": null,
   "metadata": {},
   "outputs": [],
   "source": [
    "target_in, ctx_in, ctx_out = load_exampe('data/binary_segmentation_example/')\n",
    "\n",
    "print(\"target image:\")\n",
    "display_images(target_in)\n",
    "print(\"context set inputs:\")\n",
    "display_images(ctx_in)\n",
    "print(\"context set outputs:\")\n",
    "display_images(ctx_out)"
   ]
  },
  {
   "cell_type": "markdown",
   "metadata": {},
   "source": [
    "### Run the model and visualize the prediction\n",
    "\n",
    "We run the model inference and visualize the prediction in the cell below. Neuralizer infers the task from the examples provided in the context set, and applies this task to the input. The result is how the target input would look like with the same mapping as between context input and context output is applied, in this case a segmentation map. By feeding different context sets, this versitile approach can be used to solve many neuroimaging tasks with a single model, without having to train task-specific models."
   ]
  },
  {
   "cell_type": "code",
   "execution_count": null,
   "metadata": {},
   "outputs": [],
   "source": [
    "target_out = model.forward(target_in, ctx_in, ctx_out)\n",
    "\n",
    "print(\"Model prediction:\")\n",
    "display_images(target_out.round())"
   ]
  },
  {
   "cell_type": "markdown",
   "metadata": {},
   "source": [
    "## Bias correction\n",
    "Nest, we use the same model to correct the bias on an image. Bias correction is an integral pre-processing step of many brain image processing suites, as it helps to normalize intensity values. This time, we use a diverse context set, including images of multiple modalities."
   ]
  },
  {
   "cell_type": "code",
   "execution_count": null,
   "metadata": {},
   "outputs": [],
   "source": [
    "target_in, ctx_in, ctx_out = load_exampe('data/bias_correction/')\n",
    "\n",
    "print(\"target image:\")\n",
    "display_images(target_in)\n",
    "print(\"context set inputs:\")\n",
    "display_images(ctx_in)\n",
    "print(\"context set outputs:\")\n",
    "display_images(ctx_out)\n",
    "\n",
    "target_out = model.forward(target_in, ctx_in, ctx_out)\n",
    "\n",
    "print(\"Model prediction:\")\n",
    "display_images(target_out)"
   ]
  },
  {
   "cell_type": "markdown",
   "metadata": {},
   "source": [
    "## Modality transfer\n",
    "\n",
    "Finally, we show modality transfer from T2- to T1-weightes images. While the clinical significance of modality transfer continues to be debated, the large pool of imaging modalities makes it infeasible to train dedicated models for each pair of modalities. Neuralizer is able to solve any modality transfer task (in fact, even with completely made-up modalities!), without nessesitationg training."
   ]
  },
  {
   "cell_type": "code",
   "execution_count": null,
   "metadata": {},
   "outputs": [],
   "source": [
    "target_in, ctx_in, ctx_out = load_exampe('data/modality_transfer_example/')\n",
    "\n",
    "print(\"target image:\")\n",
    "display_images(target_in)\n",
    "print(\"context set inputs:\")\n",
    "display_images(ctx_in)\n",
    "print(\"context set outputs:\")\n",
    "display_images(ctx_out)\n",
    "\n",
    "target_out = model.forward(target_in, ctx_in, ctx_out)\n",
    "\n",
    "print(\"Model prediction:\")\n",
    "display_images(target_out)"
   ]
  }
 ],
 "metadata": {
  "kernelspec": {
   "display_name": "neuralizer_env",
   "language": "python",
   "name": "neuralizer_env"
  },
  "language_info": {
   "codemirror_mode": {
    "name": "ipython",
    "version": 3
   },
   "file_extension": ".py",
   "mimetype": "text/x-python",
   "name": "python",
   "nbconvert_exporter": "python",
   "pygments_lexer": "ipython3",
   "version": "3.8.16"
  }
 },
 "nbformat": 4,
 "nbformat_minor": 2
}
